{
 "cells": [
  {
   "cell_type": "code",
   "execution_count": 1,
   "id": "7771587d-dd7e-42ca-9f07-0edb7cce21e0",
   "metadata": {
    "tags": []
   },
   "outputs": [],
   "source": [
    "from rdkit import Chem\n",
    "from rdkit.Chem.MolStandardize import rdMolStandardize\n",
    "from rdkit.Chem.Draw import rdMolDraw2D\n",
    "from IPython.display import SVG"
   ]
  },
  {
   "cell_type": "code",
   "execution_count": 2,
   "id": "281d83d9-8171-48ef-ac15-35f15a0355ac",
   "metadata": {
    "tags": []
   },
   "outputs": [],
   "source": [
    "nitromethane = Chem.MolFromSmiles(\"C[N+](=O)[O-]\")"
   ]
  },
  {
   "cell_type": "code",
   "execution_count": 3,
   "id": "6ca29923-d836-4bb8-b3c9-b9610f3bfd76",
   "metadata": {
    "tags": []
   },
   "outputs": [
    {
     "data": {
      "image/png": "[encoded data removed]",
      "text/plain": [
       "<rdkit.Chem.rdchem.Mol at 0x7f1f69375f50>"
      ]
     },
     "execution_count": 3,
     "metadata": {},
     "output_type": "execute_result"
    }
   ],
   "source": [
    "nitromethane"
   ]
  },
  {
   "cell_type": "code",
   "execution_count": 4,
   "id": "d3171e5e-b376-4c7f-b36a-54a10c4ca1f7",
   "metadata": {
    "tags": []
   },
   "outputs": [],
   "source": [
    "nitromethane = Chem.MolFromSmiles(\"CN(=O)->O\")"
   ]
  },
  {
   "cell_type": "markdown",
   "id": "7df4c19d-19ee-4115-bf0a-e5c7db4b8ce6",
   "metadata": {},
   "source": [
    "As expected, there is no implicit H on the O atom:"
   ]
  },
  {
   "cell_type": "code",
   "execution_count": 5,
   "id": "5811350b-3c8d-41a0-8a74-6586d3a1b74e",
   "metadata": {
    "scrolled": true,
    "tags": []
   },
   "outputs": [
    {
     "data": {
      "image/png": "[encoded data removed]",
      "text/plain": [
       "<rdkit.Chem.rdchem.Mol at 0x7f1f69376110>"
      ]
     },
     "execution_count": 5,
     "metadata": {},
     "output_type": "execute_result"
    }
   ],
   "source": [
    "nitromethane"
   ]
  },
  {
   "cell_type": "markdown",
   "id": "d9190b6e-f144-4e0e-b40f-97f06bbb97cf",
   "metadata": {},
   "source": [
    "The attempt to generate the charge-separated analog with an implicit H on the oxygen fails, as expected:"
   ]
  },
  {
   "cell_type": "code",
   "execution_count": 6,
   "id": "1a8bb20a-4e71-459c-89a0-d11052fad992",
   "metadata": {
    "tags": []
   },
   "outputs": [
    {
     "name": "stderr",
     "output_type": "stream",
     "text": [
      "[19:45:26] Explicit valence for atom # 3 O, 2, is greater than permitted\n"
     ]
    }
   ],
   "source": [
    "nitromethane = Chem.MolFromSmiles(\"C[N+](=O)-[OH-]\")"
   ]
  },
  {
   "cell_type": "code",
   "execution_count": 7,
   "id": "3ec7c9da-6ab3-421b-816b-b7af9a4457d8",
   "metadata": {
    "tags": []
   },
   "outputs": [],
   "source": [
    "mol = Chem.MolFromSmiles(\"N(C)(C)(C)(->O)->O\", sanitize=False)"
   ]
  },
  {
   "cell_type": "code",
   "execution_count": 8,
   "id": "dc8969e7-4da9-4f35-8224-4b436b2aa459",
   "metadata": {
    "tags": []
   },
   "outputs": [
    {
     "data": {
      "image/png": "[encoded data removed]",
      "text/plain": [
       "<rdkit.Chem.rdchem.Mol at 0x7f1f69376650>"
      ]
     },
     "execution_count": 8,
     "metadata": {},
     "output_type": "execute_result"
    }
   ],
   "source": [
    "mol"
   ]
  },
  {
   "cell_type": "markdown",
   "id": "e656b5f8-cc57-433b-9db8-cb31d973ff20",
   "metadata": {},
   "source": [
    "The molecule has no implicit Hs on the oxygen, and raises an exception with `strict=True`, because a nitrogen atom does not have enough LP to establish two double bonds:"
   ]
  },
  {
   "cell_type": "code",
   "execution_count": 9,
   "id": "a49691ee-655e-4e1e-b5c7-c768b93eda0b",
   "metadata": {
    "tags": []
   },
   "outputs": [],
   "source": [
    "mol.UpdatePropertyCache(False)"
   ]
  },
  {
   "cell_type": "code",
   "execution_count": 10,
   "id": "eaf3bc6f-6124-4e50-88e6-4e542e07e165",
   "metadata": {
    "tags": []
   },
   "outputs": [
    {
     "name": "stderr",
     "output_type": "stream",
     "text": [
      "[19:45:27] The number of electrons donated by atom # 0 N, 4, is greater than permitted\n"
     ]
    },
    {
     "ename": "AtomValenceException",
     "evalue": "The number of electrons donated by atom # 0 N, 4, is greater than permitted",
     "output_type": "error",
     "traceback": [
      "\u001b[0;31m---------------------------------------------------------------------------\u001b[0m",
      "\u001b[0;31mAtomValenceException\u001b[0m                      Traceback (most recent call last)",
      "Cell \u001b[0;32mIn[10], line 1\u001b[0m\n\u001b[0;32m----> 1\u001b[0m \u001b[43mmol\u001b[49m\u001b[38;5;241;43m.\u001b[39;49m\u001b[43mUpdatePropertyCache\u001b[49m\u001b[43m(\u001b[49m\u001b[38;5;28;43;01mTrue\u001b[39;49;00m\u001b[43m)\u001b[49m\n",
      "\u001b[0;31mAtomValenceException\u001b[0m: The number of electrons donated by atom # 0 N, 4, is greater than permitted"
     ]
    }
   ],
   "source": [
    "mol.UpdatePropertyCache(True)"
   ]
  },
  {
   "cell_type": "code",
   "execution_count": 11,
   "id": "356c2ae0-b07d-4508-863c-4492c8b6a727",
   "metadata": {
    "tags": []
   },
   "outputs": [
    {
     "data": {
      "text/plain": [
       "'CN(C)(C)(->O)->O'"
      ]
     },
     "execution_count": 11,
     "metadata": {},
     "output_type": "execute_result"
    }
   ],
   "source": [
    "Chem.MolToSmiles(mol)"
   ]
  },
  {
   "cell_type": "markdown",
   "id": "65d3c87e-bba7-4a1e-8838-b680729fb3ee",
   "metadata": {},
   "source": [
    "The charge-separated version of the above fails sanitization, as expected:"
   ]
  },
  {
   "cell_type": "code",
   "execution_count": 12,
   "id": "44fb135c-e95b-4eca-8f1e-f9743f01ae55",
   "metadata": {
    "tags": []
   },
   "outputs": [],
   "source": [
    "mol = Chem.MolFromSmiles(\"[N+2](C)(C)(C)(-[O-])-[O-]\", sanitize=False)"
   ]
  },
  {
   "cell_type": "code",
   "execution_count": 13,
   "id": "550815c4-deb3-4ff1-93ac-5a1ce2250896",
   "metadata": {
    "tags": []
   },
   "outputs": [
    {
     "data": {
      "image/png": "[encoded data removed]",
      "text/plain": [
       "<rdkit.Chem.rdchem.Mol at 0x7f1f6910fed0>"
      ]
     },
     "execution_count": 13,
     "metadata": {},
     "output_type": "execute_result"
    }
   ],
   "source": [
    "mol"
   ]
  },
  {
   "cell_type": "code",
   "execution_count": 14,
   "id": "e11ffcd9-05a4-4dc9-93e7-6e6a21c8aad1",
   "metadata": {
    "tags": []
   },
   "outputs": [],
   "source": [
    "mol.UpdatePropertyCache(False)"
   ]
  },
  {
   "cell_type": "code",
   "execution_count": 15,
   "id": "ab429428-fd2c-42b0-9e79-19ebfea790f8",
   "metadata": {
    "tags": []
   },
   "outputs": [
    {
     "name": "stderr",
     "output_type": "stream",
     "text": [
      "[19:45:46] Explicit valence for atom # 0 N, 5, is greater than permitted\n"
     ]
    },
    {
     "ename": "AtomValenceException",
     "evalue": "Explicit valence for atom # 0 N, 5, is greater than permitted",
     "output_type": "error",
     "traceback": [
      "\u001b[0;31m---------------------------------------------------------------------------\u001b[0m",
      "\u001b[0;31mAtomValenceException\u001b[0m                      Traceback (most recent call last)",
      "Cell \u001b[0;32mIn[15], line 1\u001b[0m\n\u001b[0;32m----> 1\u001b[0m \u001b[43mmol\u001b[49m\u001b[38;5;241;43m.\u001b[39;49m\u001b[43mUpdatePropertyCache\u001b[49m\u001b[43m(\u001b[49m\u001b[38;5;28;43;01mTrue\u001b[39;49;00m\u001b[43m)\u001b[49m\n",
      "\u001b[0;31mAtomValenceException\u001b[0m: Explicit valence for atom # 0 N, 5, is greater than permitted"
     ]
    }
   ],
   "source": [
    "mol.UpdatePropertyCache(True)"
   ]
  },
  {
   "cell_type": "code",
   "execution_count": 16,
   "id": "5210796b-f6a9-4194-91fd-f068345d2993",
   "metadata": {
    "tags": []
   },
   "outputs": [
    {
     "data": {
      "image/png": "[encoded data removed]",
      "text/plain": [
       "<rdkit.Chem.rdchem.Mol at 0x7f1f6910f680>"
      ]
     },
     "execution_count": 16,
     "metadata": {},
     "output_type": "execute_result"
    }
   ],
   "source": [
    "Chem.MolFromMolBlock((Chem.MolToV3KMolBlock(mol)), sanitize=False)"
   ]
  },
  {
   "cell_type": "markdown",
   "id": "bb719a0c-9641-4973-96d9-fb7bc728db9c",
   "metadata": {
    "tags": []
   },
   "source": [
    "Also aromatic _N_-oxides correctly have no implicit Hs on oxygen:"
   ]
  },
  {
   "cell_type": "code",
   "execution_count": 17,
   "id": "0c369590-af64-41c6-b38a-85b30558a161",
   "metadata": {
    "tags": []
   },
   "outputs": [],
   "source": [
    "pyridine_N_oxide = Chem.MolFromSmiles(\"c1ccccn1->O\")"
   ]
  },
  {
   "cell_type": "code",
   "execution_count": 18,
   "id": "05d9198b-80c9-4f82-914e-7d88bc3907d5",
   "metadata": {
    "tags": []
   },
   "outputs": [
    {
     "data": {
      "image/png": "[encoded data removed]",
      "text/plain": [
       "<rdkit.Chem.rdchem.Mol at 0x7f1f68b95620>"
      ]
     },
     "execution_count": 18,
     "metadata": {},
     "output_type": "execute_result"
    }
   ],
   "source": [
    "pyridine_N_oxide"
   ]
  },
  {
   "cell_type": "markdown",
   "id": "9a59b054-a4af-4e95-97c3-50b45a0bec6d",
   "metadata": {},
   "source": [
    "The nitrogen analogue has a single implicit hydrogen, as expected:"
   ]
  },
  {
   "cell_type": "code",
   "execution_count": 19,
   "id": "20a54bce-5761-41b3-9f8f-311fbee15f91",
   "metadata": {
    "tags": []
   },
   "outputs": [],
   "source": [
    "mol = Chem.MolFromSmiles(\"N(C)(C)(C)->N\")"
   ]
  },
  {
   "cell_type": "code",
   "execution_count": 20,
   "id": "0704a72e-477b-45c3-9e11-016bd5ef39e7",
   "metadata": {
    "tags": []
   },
   "outputs": [
    {
     "data": {
      "image/png": "[encoded data removed]",
      "text/plain": [
       "<rdkit.Chem.rdchem.Mol at 0x7f1f68b952a0>"
      ]
     },
     "execution_count": 20,
     "metadata": {},
     "output_type": "execute_result"
    }
   ],
   "source": [
    "mol"
   ]
  },
  {
   "cell_type": "markdown",
   "id": "f6b0c2cd-fd10-4a23-9ac3-97756aeeb764",
   "metadata": {},
   "source": [
    "Its charge separated version is correct:"
   ]
  },
  {
   "cell_type": "code",
   "execution_count": 21,
   "id": "8df68d46-b539-48e1-8d22-aa4e094811a1",
   "metadata": {
    "tags": []
   },
   "outputs": [],
   "source": [
    "mol = Chem.MolFromSmiles(\"[N+](C)(C)(C)-[NH-]\")"
   ]
  },
  {
   "cell_type": "code",
   "execution_count": 22,
   "id": "69db1db8-912a-4fea-a47e-4f1661ad7404",
   "metadata": {
    "tags": []
   },
   "outputs": [
    {
     "data": {
      "image/png": "[encoded data removed]",
      "text/plain": [
       "<rdkit.Chem.rdchem.Mol at 0x7f1f68b951c0>"
      ]
     },
     "execution_count": 22,
     "metadata": {},
     "output_type": "execute_result"
    }
   ],
   "source": [
    "mol"
   ]
  },
  {
   "cell_type": "markdown",
   "id": "e62f9387-ad2d-4f26-b8a4-f76e3ea4af97",
   "metadata": {},
   "source": [
    "And it correctly fails when trying to add another implicit H:"
   ]
  },
  {
   "cell_type": "code",
   "execution_count": 23,
   "id": "8fcd42bc-96aa-4aa8-8609-1206fc8647c7",
   "metadata": {
    "tags": []
   },
   "outputs": [
    {
     "name": "stderr",
     "output_type": "stream",
     "text": [
      "[19:45:48] Explicit valence for atom # 4 N, 3, is greater than permitted\n"
     ]
    }
   ],
   "source": [
    "mol = Chem.MolFromSmiles(\"[N+](C)(C)(C)-[NH2-]\")"
   ]
  },
  {
   "cell_type": "code",
   "execution_count": 24,
   "id": "33faf2eb-5d0e-47a4-a4f8-323c583b3599",
   "metadata": {
    "tags": []
   },
   "outputs": [],
   "source": [
    "mol = Chem.MolFromSmiles(\"N(C)(C)(C)->O<-N(C)(C)C\", False)"
   ]
  },
  {
   "cell_type": "markdown",
   "id": "3a0bface-8c8c-40f2-a714-e9bbfb28a2bc",
   "metadata": {},
   "source": [
    "This molecule should raise an exception with `strict=True`, because oxygen cannot expand its octet, and it indeed does:"
   ]
  },
  {
   "cell_type": "code",
   "execution_count": 25,
   "id": "65b5dc75-188b-48d0-8ecd-afab84e531b9",
   "metadata": {
    "tags": []
   },
   "outputs": [
    {
     "data": {
      "image/png": "[encoded data removed]",
      "text/plain": [
       "<rdkit.Chem.rdchem.Mol at 0x7f1f68b94d60>"
      ]
     },
     "execution_count": 25,
     "metadata": {},
     "output_type": "execute_result"
    }
   ],
   "source": [
    "mol"
   ]
  },
  {
   "cell_type": "code",
   "execution_count": 26,
   "id": "6a381bfa-93db-4bc6-afa2-f3aabfd2840d",
   "metadata": {
    "tags": []
   },
   "outputs": [
    {
     "name": "stderr",
     "output_type": "stream",
     "text": [
      "[19:45:49] The number of electrons received by atom # 4 O, 4, is greater than permitted\n"
     ]
    },
    {
     "ename": "AtomValenceException",
     "evalue": "The number of electrons received by atom # 4 O, 4, is greater than permitted",
     "output_type": "error",
     "traceback": [
      "\u001b[0;31m---------------------------------------------------------------------------\u001b[0m",
      "\u001b[0;31mAtomValenceException\u001b[0m                      Traceback (most recent call last)",
      "Cell \u001b[0;32mIn[26], line 1\u001b[0m\n\u001b[0;32m----> 1\u001b[0m \u001b[43mChem\u001b[49m\u001b[38;5;241;43m.\u001b[39;49m\u001b[43mSanitizeMol\u001b[49m\u001b[43m(\u001b[49m\u001b[43mmol\u001b[49m\u001b[43m)\u001b[49m\n",
      "\u001b[0;31mAtomValenceException\u001b[0m: The number of electrons received by atom # 4 O, 4, is greater than permitted"
     ]
    }
   ],
   "source": [
    "Chem.SanitizeMol(mol)"
   ]
  },
  {
   "cell_type": "markdown",
   "id": "a4b96c70-1ce8-4ddd-b5ab-e86b2236114b",
   "metadata": {},
   "source": [
    "As expected, sanitization fail also when written with charge separation, since that implies again 10 electrons on oxygen:"
   ]
  },
  {
   "cell_type": "code",
   "execution_count": 27,
   "id": "83179332-c446-4302-8f3a-139b555d75cc",
   "metadata": {
    "tags": []
   },
   "outputs": [],
   "source": [
    "mol = Chem.MolFromSmiles(\"[N+](C)(C)(C)-[O-2]-[N+](C)(C)C\", False)"
   ]
  },
  {
   "cell_type": "code",
   "execution_count": 28,
   "id": "a215f973-3c5d-4984-a5ab-4a0fa1587298",
   "metadata": {
    "tags": []
   },
   "outputs": [
    {
     "data": {
      "image/png": "[encoded data removed]",
      "text/plain": [
       "<rdkit.Chem.rdchem.Mol at 0x7f1f68b94b30>"
      ]
     },
     "execution_count": 28,
     "metadata": {},
     "output_type": "execute_result"
    }
   ],
   "source": [
    "mol"
   ]
  },
  {
   "cell_type": "code",
   "execution_count": 29,
   "id": "c4d22229-e2d3-4235-96b8-6def9ba08cb3",
   "metadata": {
    "tags": []
   },
   "outputs": [
    {
     "name": "stderr",
     "output_type": "stream",
     "text": [
      "[19:45:50] Explicit valence for atom # 4 O, 2, is greater than permitted\n"
     ]
    },
    {
     "ename": "AtomValenceException",
     "evalue": "Explicit valence for atom # 4 O, 2, is greater than permitted",
     "output_type": "error",
     "traceback": [
      "\u001b[0;31m---------------------------------------------------------------------------\u001b[0m",
      "\u001b[0;31mAtomValenceException\u001b[0m                      Traceback (most recent call last)",
      "Cell \u001b[0;32mIn[29], line 1\u001b[0m\n\u001b[0;32m----> 1\u001b[0m \u001b[43mChem\u001b[49m\u001b[38;5;241;43m.\u001b[39;49m\u001b[43mSanitizeMol\u001b[49m\u001b[43m(\u001b[49m\u001b[43mmol\u001b[49m\u001b[43m)\u001b[49m\n",
      "\u001b[0;31mAtomValenceException\u001b[0m: Explicit valence for atom # 4 O, 2, is greater than permitted"
     ]
    }
   ],
   "source": [
    "Chem.SanitizeMol(mol)"
   ]
  },
  {
   "cell_type": "code",
   "execution_count": 30,
   "id": "b3f07f92-e28f-4059-a96d-f8fd7cfe50d3",
   "metadata": {
    "tags": []
   },
   "outputs": [
    {
     "data": {
      "image/png": "[encoded data removed]",
      "text/plain": [
       "<rdkit.Chem.rdchem.Mol at 0x7f1f68b94b30>"
      ]
     },
     "execution_count": 30,
     "metadata": {},
     "output_type": "execute_result"
    }
   ],
   "source": [
    "mol"
   ]
  },
  {
   "cell_type": "markdown",
   "id": "1caba59d-f38f-4bce-848e-8f8f6cc7965b",
   "metadata": {},
   "source": [
    "It also correctly fails when written with a single charge, which implies 9 electrons on oxygen:"
   ]
  },
  {
   "cell_type": "code",
   "execution_count": 31,
   "id": "32e6ce49-3795-4924-8d2b-104be30bbbca",
   "metadata": {
    "tags": []
   },
   "outputs": [],
   "source": [
    "mol = Chem.MolFromSmiles(\"[N+](C)(C)(C)-[O-]-[N+](C)(C)C\", False)"
   ]
  },
  {
   "cell_type": "code",
   "execution_count": 32,
   "id": "ec95833f-a792-4af7-b734-f10b236111a6",
   "metadata": {
    "tags": []
   },
   "outputs": [
    {
     "data": {
      "image/png": "[encoded data removed]",
      "text/plain": [
       "<rdkit.Chem.rdchem.Mol at 0x7f1f68b94c10>"
      ]
     },
     "execution_count": 32,
     "metadata": {},
     "output_type": "execute_result"
    }
   ],
   "source": [
    "mol"
   ]
  },
  {
   "cell_type": "code",
   "execution_count": 33,
   "id": "aedff248-7a62-418f-a579-987b58295377",
   "metadata": {
    "tags": []
   },
   "outputs": [
    {
     "name": "stderr",
     "output_type": "stream",
     "text": [
      "[19:45:50] Explicit valence for atom # 4 O, 2, is greater than permitted\n"
     ]
    },
    {
     "ename": "AtomValenceException",
     "evalue": "Explicit valence for atom # 4 O, 2, is greater than permitted",
     "output_type": "error",
     "traceback": [
      "\u001b[0;31m---------------------------------------------------------------------------\u001b[0m",
      "\u001b[0;31mAtomValenceException\u001b[0m                      Traceback (most recent call last)",
      "Cell \u001b[0;32mIn[33], line 1\u001b[0m\n\u001b[0;32m----> 1\u001b[0m \u001b[43mChem\u001b[49m\u001b[38;5;241;43m.\u001b[39;49m\u001b[43mSanitizeMol\u001b[49m\u001b[43m(\u001b[49m\u001b[43mmol\u001b[49m\u001b[43m)\u001b[49m\n",
      "\u001b[0;31mAtomValenceException\u001b[0m: Explicit valence for atom # 4 O, 2, is greater than permitted"
     ]
    }
   ],
   "source": [
    "Chem.SanitizeMol(mol)"
   ]
  },
  {
   "cell_type": "code",
   "execution_count": 34,
   "id": "dec38fe8-ef2d-4599-a5e1-465e61069916",
   "metadata": {
    "tags": []
   },
   "outputs": [],
   "source": [
    "mol = Chem.MolFromSmiles(\"N(C)(C)(C)->S<-N(C)(C)C\", False)"
   ]
  },
  {
   "cell_type": "markdown",
   "id": "2a2c4362-78a4-49ac-a0d8-ff0d3eab57be",
   "metadata": {},
   "source": [
    "This molecule can expand its octet, so it should not raise an exception:"
   ]
  },
  {
   "cell_type": "code",
   "execution_count": 35,
   "id": "c42a5433-ee79-4690-842e-5060b5beff5e",
   "metadata": {
    "tags": []
   },
   "outputs": [
    {
     "data": {
      "image/png": "[encoded data removed]",
      "text/plain": [
       "<rdkit.Chem.rdchem.Mol at 0x7f1f68b944a0>"
      ]
     },
     "execution_count": 35,
     "metadata": {},
     "output_type": "execute_result"
    }
   ],
   "source": [
    "mol"
   ]
  },
  {
   "cell_type": "code",
   "execution_count": 36,
   "id": "f3e2033e-4194-4454-bff1-5232c2a4d040",
   "metadata": {
    "tags": []
   },
   "outputs": [
    {
     "data": {
      "text/plain": [
       "rdkit.Chem.rdmolops.SanitizeFlags.SANITIZE_NONE"
      ]
     },
     "execution_count": 36,
     "metadata": {},
     "output_type": "execute_result"
    }
   ],
   "source": [
    "Chem.SanitizeMol(mol)"
   ]
  },
  {
   "cell_type": "markdown",
   "id": "9209e90b-68f0-450c-88d1-d6d904cdf50a",
   "metadata": {},
   "source": [
    "Also the version written with charge separation should not cause any problems:"
   ]
  },
  {
   "cell_type": "code",
   "execution_count": 37,
   "id": "1057f46e-1264-43a1-8992-8536a50e28ce",
   "metadata": {
    "tags": []
   },
   "outputs": [],
   "source": [
    "mol = Chem.MolFromSmiles(\"[N+](C)(C)(C)-[S-2]-[N+](C)(C)C\", False)"
   ]
  },
  {
   "cell_type": "code",
   "execution_count": 38,
   "id": "589e1567-41db-46db-b5ff-2b29b5fba373",
   "metadata": {
    "tags": []
   },
   "outputs": [
    {
     "data": {
      "image/png": "[encoded data removed]",
      "text/plain": [
       "<rdkit.Chem.rdchem.Mol at 0x7f1f68b94270>"
      ]
     },
     "execution_count": 38,
     "metadata": {},
     "output_type": "execute_result"
    }
   ],
   "source": [
    "mol"
   ]
  },
  {
   "cell_type": "code",
   "execution_count": 39,
   "id": "3a46ea1f-e4b0-4db1-a9bc-05236667c04c",
   "metadata": {
    "tags": []
   },
   "outputs": [
    {
     "data": {
      "text/plain": [
       "rdkit.Chem.rdmolops.SanitizeFlags.SANITIZE_NONE"
      ]
     },
     "execution_count": 39,
     "metadata": {},
     "output_type": "execute_result"
    }
   ],
   "source": [
    "Chem.SanitizeMol(mol)"
   ]
  },
  {
   "cell_type": "code",
   "execution_count": 40,
   "id": "b54733e3-da9e-4355-aba6-1160c8c19ef5",
   "metadata": {
    "tags": []
   },
   "outputs": [
    {
     "data": {
      "image/png": "[encoded data removed]",
      "text/plain": [
       "<rdkit.Chem.rdchem.Mol at 0x7f1f68b94270>"
      ]
     },
     "execution_count": 40,
     "metadata": {},
     "output_type": "execute_result"
    }
   ],
   "source": [
    "mol"
   ]
  },
  {
   "cell_type": "markdown",
   "id": "5d5aec41-fabe-4ebe-8ef4-a2fa9f4c0057",
   "metadata": {},
   "source": [
    "Correctly, it does not cause problems also when written with a single negative charge:"
   ]
  },
  {
   "cell_type": "code",
   "execution_count": 41,
   "id": "c2b9ccfd-f436-470f-8edf-7d0a1f300f95",
   "metadata": {
    "tags": []
   },
   "outputs": [],
   "source": [
    "mol = Chem.MolFromSmiles(\"[N+](C)(C)(C)-[S-]-[N+](C)(C)C\", False)"
   ]
  },
  {
   "cell_type": "code",
   "execution_count": 42,
   "id": "a9f4cc6a-710d-4daf-ae3b-b86213c7cb56",
   "metadata": {
    "tags": []
   },
   "outputs": [
    {
     "data": {
      "image/png": "[encoded data removed]",
      "text/plain": [
       "<rdkit.Chem.rdchem.Mol at 0x7f1f68b95930>"
      ]
     },
     "execution_count": 42,
     "metadata": {},
     "output_type": "execute_result"
    }
   ],
   "source": [
    "mol"
   ]
  },
  {
   "cell_type": "code",
   "execution_count": 43,
   "id": "53eb4ad3-2ba0-4f2a-8646-b6911f775efe",
   "metadata": {
    "tags": []
   },
   "outputs": [
    {
     "data": {
      "text/plain": [
       "rdkit.Chem.rdmolops.SanitizeFlags.SANITIZE_NONE"
      ]
     },
     "execution_count": 43,
     "metadata": {},
     "output_type": "execute_result"
    }
   ],
   "source": [
    "Chem.SanitizeMol(mol)"
   ]
  },
  {
   "cell_type": "code",
   "execution_count": 44,
   "id": "081f5a1a-b0d8-4344-ad18-ffc4bb90e710",
   "metadata": {
    "tags": []
   },
   "outputs": [
    {
     "data": {
      "image/png": "[encoded data removed]",
      "text/plain": [
       "<rdkit.Chem.rdchem.Mol at 0x7f1f68b95930>"
      ]
     },
     "execution_count": 44,
     "metadata": {},
     "output_type": "execute_result"
    }
   ],
   "source": [
    "mol"
   ]
  },
  {
   "cell_type": "markdown",
   "id": "b2503772-c820-4b36-9dce-e04ee99498ab",
   "metadata": {},
   "source": [
    "This molecule can formally establish two dative bonds, and correctly it does not bear any implicit Hs on either nitrogen or oxygen:"
   ]
  },
  {
   "cell_type": "code",
   "execution_count": 45,
   "id": "6ff3f563-2757-4108-b392-d645a73040bd",
   "metadata": {
    "tags": []
   },
   "outputs": [],
   "source": [
    "mol = Chem.MolFromSmiles(\"CN(->O)->O\")"
   ]
  },
  {
   "cell_type": "code",
   "execution_count": 46,
   "id": "448d1fea-449a-4192-9c2a-56cd9f7595f6",
   "metadata": {
    "tags": []
   },
   "outputs": [
    {
     "data": {
      "image/png": "[encoded data removed]",
      "text/plain": [
       "<rdkit.Chem.rdchem.Mol at 0x7f1f68b95af0>"
      ]
     },
     "execution_count": 46,
     "metadata": {},
     "output_type": "execute_result"
    }
   ],
   "source": [
    "mol"
   ]
  },
  {
   "cell_type": "code",
   "execution_count": 47,
   "id": "6a9cb0aa-73ed-4c98-8829-ea00913bc9ba",
   "metadata": {
    "tags": []
   },
   "outputs": [
    {
     "data": {
      "text/plain": [
       "'CN(->O)->O'"
      ]
     },
     "execution_count": 47,
     "metadata": {},
     "output_type": "execute_result"
    }
   ],
   "source": [
    "Chem.MolToSmiles(mol)"
   ]
  },
  {
   "cell_type": "markdown",
   "id": "c5d60872-dfc6-47c1-b3ac-82f92432186c",
   "metadata": {},
   "source": [
    "Its charge-separated version is indeed correct:"
   ]
  },
  {
   "cell_type": "code",
   "execution_count": 48,
   "id": "89fb2fb5-ee93-4cd7-a466-ddeeb3c8dbea",
   "metadata": {
    "tags": []
   },
   "outputs": [],
   "source": [
    "mol = Chem.MolFromSmiles(\"C[N+2](-[O-])-[O-]\")"
   ]
  },
  {
   "cell_type": "code",
   "execution_count": 49,
   "id": "9ba7d29b-ee66-4662-b0bc-b48de473b7df",
   "metadata": {
    "tags": []
   },
   "outputs": [
    {
     "data": {
      "image/png": "[encoded data removed]",
      "text/plain": [
       "<rdkit.Chem.rdchem.Mol at 0x7f1f68b95d90>"
      ]
     },
     "execution_count": 49,
     "metadata": {},
     "output_type": "execute_result"
    }
   ],
   "source": [
    "mol"
   ]
  },
  {
   "cell_type": "markdown",
   "id": "51158166-b0d0-48c7-a53e-9c507b57c968",
   "metadata": {},
   "source": [
    "And it correctly fails sanitization when attempting to add two hydrogens:"
   ]
  },
  {
   "cell_type": "code",
   "execution_count": 50,
   "id": "942739e7-d094-4d6f-8af0-e5d23db07abd",
   "metadata": {
    "tags": []
   },
   "outputs": [
    {
     "name": "stderr",
     "output_type": "stream",
     "text": [
      "[19:45:54] Explicit valence for atom # 1 N, 5, is greater than permitted\n"
     ]
    }
   ],
   "source": [
    "mol = Chem.MolFromSmiles(\"C[NH2+2](-[O-])-[O-]\")"
   ]
  },
  {
   "cell_type": "markdown",
   "id": "ac15cebb-bc39-4d27-999b-de1609265ac4",
   "metadata": {},
   "source": [
    "Dimethylsulfone represented with dative bonds should not bear implicit Hs on the oxygen atoms, and indeed it does not:"
   ]
  },
  {
   "cell_type": "code",
   "execution_count": 51,
   "id": "41bc9bbd-1e2f-4e85-8cdd-05e19017f6b6",
   "metadata": {
    "tags": []
   },
   "outputs": [],
   "source": [
    "mol = Chem.MolFromSmiles(\"CS(->O)(->O)C\")"
   ]
  },
  {
   "cell_type": "code",
   "execution_count": 52,
   "id": "8fa61cfa-b39e-407f-883a-ce687e78dd44",
   "metadata": {
    "tags": []
   },
   "outputs": [
    {
     "data": {
      "image/png": "[encoded data removed]",
      "text/plain": [
       "<rdkit.Chem.rdchem.Mol at 0x7f1f68b960a0>"
      ]
     },
     "execution_count": 52,
     "metadata": {},
     "output_type": "execute_result"
    }
   ],
   "source": [
    "mol"
   ]
  },
  {
   "cell_type": "code",
   "execution_count": 53,
   "id": "afc99fa5-5d37-4e48-86aa-54d8888b9f8a",
   "metadata": {
    "tags": []
   },
   "outputs": [],
   "source": [
    "nh3_bh3_charge_sep_from_smiles = Chem.MolFromSmiles(\"[BH3-]-[NH3+]\")"
   ]
  },
  {
   "cell_type": "code",
   "execution_count": 54,
   "id": "bb5e2db0-02b9-45d0-8872-e38ed548472c",
   "metadata": {
    "tags": []
   },
   "outputs": [
    {
     "data": {
      "image/png": "[encoded data removed]",
      "text/plain": [
       "<rdkit.Chem.rdchem.Mol at 0x7f1f68b961f0>"
      ]
     },
     "execution_count": 54,
     "metadata": {},
     "output_type": "execute_result"
    }
   ],
   "source": [
    "nh3_bh3_charge_sep_from_smiles"
   ]
  },
  {
   "cell_type": "markdown",
   "id": "9de95ffd-8ecb-41f8-b038-90b2d88b81c5",
   "metadata": {},
   "source": [
    "This is the same molecule represented with a dative bond rather than with charge separation, and boron has 3 implicit hydrogens as expected:"
   ]
  },
  {
   "cell_type": "code",
   "execution_count": 55,
   "id": "802f271b-8a31-43da-bf7d-c6f4dcf58a3f",
   "metadata": {
    "tags": []
   },
   "outputs": [],
   "source": [
    "nh3_bh3_dative_from_smiles = Chem.MolFromSmiles(\"B<-N\")"
   ]
  },
  {
   "cell_type": "code",
   "execution_count": 56,
   "id": "fa593029-ee5a-4d64-82d1-25b172f346bc",
   "metadata": {
    "tags": []
   },
   "outputs": [
    {
     "data": {
      "image/png": "[encoded data removed]",
      "text/plain": [
       "<rdkit.Chem.rdchem.Mol at 0x7f1f68b965e0>"
      ]
     },
     "execution_count": 56,
     "metadata": {},
     "output_type": "execute_result"
    }
   ],
   "source": [
    "nh3_bh3_dative_from_smiles"
   ]
  },
  {
   "cell_type": "code",
   "execution_count": 57,
   "id": "33f433d2-d429-4ff4-b41d-ed7e6d21e3f4",
   "metadata": {
    "tags": []
   },
   "outputs": [],
   "source": [
    "nh3_bh3_dative_from_molblock = Chem.MolFromMolBlock(\"\"\"\n",
    "  Mrv1902 08122409262D          \n",
    "\n",
    "  0  0  0     0  0            999 V3000\n",
    "M  V30 BEGIN CTAB\n",
    "M  V30 COUNTS 2 1 0 0 0\n",
    "M  V30 BEGIN ATOM\n",
    "M  V30 1 B -1.3333 1.2917 0 0\n",
    "M  V30 2 N 0.5833 1.2917 0 0\n",
    "M  V30 END ATOM\n",
    "M  V30 BEGIN BOND\n",
    "M  V30 1 9 2 1\n",
    "M  V30 END BOND\n",
    "M  V30 END CTAB\n",
    "M  END\n",
    "\"\"\")"
   ]
  },
  {
   "cell_type": "code",
   "execution_count": 58,
   "id": "d539b5b4-5c15-409e-abdd-575250e0ced2",
   "metadata": {
    "tags": []
   },
   "outputs": [
    {
     "data": {
      "image/png": "[encoded data removed]",
      "text/plain": [
       "<rdkit.Chem.rdchem.Mol at 0x7f1f68b96570>"
      ]
     },
     "execution_count": 58,
     "metadata": {},
     "output_type": "execute_result"
    }
   ],
   "source": [
    "nh3_bh3_dative_from_molblock"
   ]
  },
  {
   "cell_type": "markdown",
   "id": "b6ddd0a0-0ec5-406a-a34f-bedafd3101dc",
   "metadata": {},
   "source": [
    "This is an example from https://github.com/rdkit/rdkit/issues/3359\n",
    "\n",
    "I can generate boron trifluoride diethyl etherate with charge separation..."
   ]
  },
  {
   "cell_type": "code",
   "execution_count": 59,
   "id": "96124786-b743-45bd-977b-1dfe1ce9277a",
   "metadata": {
    "tags": []
   },
   "outputs": [],
   "source": [
    "mol = Chem.MolFromSmiles(\"F[B-](F)(F)-[O+](CC)CC\")"
   ]
  },
  {
   "cell_type": "code",
   "execution_count": 60,
   "id": "4fcd88dc-7753-49ff-b47e-a90f8ddcae5a",
   "metadata": {
    "scrolled": true,
    "tags": []
   },
   "outputs": [
    {
     "data": {
      "image/png": "[encoded data removed]",
      "text/plain": [
       "<rdkit.Chem.rdchem.Mol at 0x7f1f68b96a40>"
      ]
     },
     "execution_count": 60,
     "metadata": {},
     "output_type": "execute_result"
    }
   ],
   "source": [
    "mol"
   ]
  },
  {
   "cell_type": "markdown",
   "id": "fad9f628-43c0-40a0-8601-a1d553aee1cf",
   "metadata": {},
   "source": [
    "...and the attempt to generate it with a dative bond does not fail sanitization, as expected:"
   ]
  },
  {
   "cell_type": "code",
   "execution_count": 61,
   "id": "74e26526-ab74-43a4-b875-a3dc61b28324",
   "metadata": {
    "tags": []
   },
   "outputs": [],
   "source": [
    "mol = Chem.MolFromSmiles(\"FB(F)(F)<-O(CC)CC\", sanitize=False)"
   ]
  },
  {
   "cell_type": "code",
   "execution_count": 62,
   "id": "568f924a-5bce-415c-aff6-2bffd821e986",
   "metadata": {
    "tags": []
   },
   "outputs": [
    {
     "data": {
      "image/png": "[encoded data removed]",
      "text/plain": [
       "<rdkit.Chem.rdchem.Mol at 0x7f1f68b969d0>"
      ]
     },
     "execution_count": 62,
     "metadata": {},
     "output_type": "execute_result"
    }
   ],
   "source": [
    "mol"
   ]
  },
  {
   "cell_type": "code",
   "execution_count": 63,
   "id": "791d88c6-4399-47bb-ae45-8690054d2664",
   "metadata": {
    "tags": []
   },
   "outputs": [
    {
     "data": {
      "text/plain": [
       "rdkit.Chem.rdmolops.SanitizeFlags.SANITIZE_NONE"
      ]
     },
     "execution_count": 63,
     "metadata": {},
     "output_type": "execute_result"
    }
   ],
   "source": [
    "Chem.SanitizeMol(mol)"
   ]
  },
  {
   "cell_type": "markdown",
   "id": "1a7de7ed-abf0-4623-9c76-77cf65e629b2",
   "metadata": {},
   "source": [
    "Similarly, I can generate the isoelectronic species with carbon using charge separation..."
   ]
  },
  {
   "cell_type": "code",
   "execution_count": 64,
   "id": "14de77ee-ae2a-4aa1-bb7e-4091ec5c365d",
   "metadata": {
    "tags": []
   },
   "outputs": [],
   "source": [
    "mol = Chem.MolFromSmiles(\"FC(F)(F)-[O+](CC)CC\")"
   ]
  },
  {
   "cell_type": "code",
   "execution_count": 65,
   "id": "50109081-b27e-495a-83f7-a3b70a378ef2",
   "metadata": {
    "tags": []
   },
   "outputs": [
    {
     "data": {
      "image/png": "[encoded data removed]",
      "text/plain": [
       "<rdkit.Chem.rdchem.Mol at 0x7f1f68b96f10>"
      ]
     },
     "execution_count": 65,
     "metadata": {},
     "output_type": "execute_result"
    }
   ],
   "source": [
    "mol"
   ]
  },
  {
   "cell_type": "markdown",
   "id": "629d3bfb-3b0d-45ac-9e51-de786aade980",
   "metadata": {},
   "source": [
    "...and the attempt to sanitize it with a dative bond does not fail, as expected:"
   ]
  },
  {
   "cell_type": "code",
   "execution_count": 66,
   "id": "daac1eb8-5618-495f-b024-58d98db8da78",
   "metadata": {
    "tags": []
   },
   "outputs": [],
   "source": [
    "mol = Chem.MolFromSmiles('F[C+](F)(F)<-O(C)C', sanitize=False)"
   ]
  },
  {
   "cell_type": "code",
   "execution_count": 67,
   "id": "3b1b3ada-0ff3-4a13-8bd7-093d6207daf6",
   "metadata": {
    "tags": []
   },
   "outputs": [
    {
     "data": {
      "image/png": "[encoded data removed]",
      "text/plain": [
       "<rdkit.Chem.rdchem.Mol at 0x7f1f68b97060>"
      ]
     },
     "execution_count": 67,
     "metadata": {},
     "output_type": "execute_result"
    }
   ],
   "source": [
    "mol"
   ]
  },
  {
   "cell_type": "code",
   "execution_count": 68,
   "id": "ce0ca792-3b85-445a-acf8-516906b4edd5",
   "metadata": {
    "tags": []
   },
   "outputs": [
    {
     "data": {
      "text/plain": [
       "rdkit.Chem.rdmolops.SanitizeFlags.SANITIZE_NONE"
      ]
     },
     "execution_count": 68,
     "metadata": {},
     "output_type": "execute_result"
    }
   ],
   "source": [
    "Chem.SanitizeMol(mol)"
   ]
  },
  {
   "cell_type": "markdown",
   "id": "4beb0af4-2c66-40c4-807a-76e39e50e25d",
   "metadata": {},
   "source": [
    "ChemDraw is almost always right when flagging or not flagging chemical mistakes on dative bonds; it only fails with the double dative bond to sulfur (which is a very much forged case, to be honest):"
   ]
  },
  {
   "attachments": {
    "25ba2e00-f3b7-4aad-990b-93f899999648.png": {
     "image/png": "[encoded data removed]"
    }
   },
   "cell_type": "markdown",
   "id": "12565c7d-697d-4c69-9d37-f107ca360a3b",
   "metadata": {},
   "source": [
    "![image.png](attachment:25ba2e00-f3b7-4aad-990b-93f899999648.png)"
   ]
  },
  {
   "cell_type": "code",
   "execution_count": 69,
   "id": "d0265444-3b92-4ebc-b2d7-a5d20de3f532",
   "metadata": {
    "tags": []
   },
   "outputs": [],
   "source": [
    "smilesps = Chem.SmilesParserParams()\n",
    "smilesps.removeHs = False\n",
    "mol = Chem.MolFromSmiles(\"[H-].[OH+]\", smilesps)"
   ]
  },
  {
   "cell_type": "code",
   "execution_count": 70,
   "id": "baf1d2f5-8aec-4e3e-ae44-5b5095deccfe",
   "metadata": {
    "tags": []
   },
   "outputs": [
    {
     "data": {
      "image/png": "[encoded data removed]",
      "text/plain": [
       "<rdkit.Chem.rdchem.Mol at 0x7f1f68b97370>"
      ]
     },
     "execution_count": 70,
     "metadata": {},
     "output_type": "execute_result"
    }
   ],
   "source": [
    "mol"
   ]
  },
  {
   "cell_type": "code",
   "execution_count": 71,
   "id": "468bf1eb-d4fa-4ef6-949e-d33d091033d4",
   "metadata": {
    "tags": []
   },
   "outputs": [
    {
     "name": "stderr",
     "output_type": "stream",
     "text": [
      "[19:45:59] WARNING: not removing hydrogen atom without neighbors\n"
     ]
    }
   ],
   "source": [
    "mol = Chem.MolFromSmiles(\"[H-].[OH+]\")"
   ]
  },
  {
   "cell_type": "code",
   "execution_count": 72,
   "id": "2cbd81ea-f219-47f2-b073-90ccff8371b9",
   "metadata": {
    "tags": []
   },
   "outputs": [
    {
     "data": {
      "image/png": "[encoded data removed]",
      "text/plain": [
       "<rdkit.Chem.rdchem.Mol at 0x7f1f68b97450>"
      ]
     },
     "execution_count": 72,
     "metadata": {},
     "output_type": "execute_result"
    }
   ],
   "source": [
    "mol"
   ]
  },
  {
   "cell_type": "code",
   "execution_count": 73,
   "id": "7f59cc19-3469-4290-ab26-5de6f9db4057",
   "metadata": {
    "tags": []
   },
   "outputs": [],
   "source": [
    "mol = Chem.MolFromSmiles(\"[H-]->[OH+]\", smilesps)"
   ]
  },
  {
   "cell_type": "code",
   "execution_count": 74,
   "id": "69f1a3f6-d905-4802-9f1b-0ce6ebeaab7e",
   "metadata": {
    "tags": []
   },
   "outputs": [
    {
     "data": {
      "image/png": "[encoded data removed]",
      "text/plain": [
       "<rdkit.Chem.rdchem.Mol at 0x7f1f68b977d0>"
      ]
     },
     "execution_count": 74,
     "metadata": {},
     "output_type": "execute_result"
    }
   ],
   "source": [
    "mol"
   ]
  },
  {
   "cell_type": "code",
   "execution_count": 75,
   "id": "20888160-372c-46f4-a72a-cc7965838390",
   "metadata": {
    "tags": []
   },
   "outputs": [
    {
     "data": {
      "text/plain": [
       "0"
      ]
     },
     "execution_count": 75,
     "metadata": {},
     "output_type": "execute_result"
    }
   ],
   "source": [
    "mol.GetAtomWithIdx(1).GetNumRadicalElectrons()"
   ]
  },
  {
   "cell_type": "code",
   "execution_count": 76,
   "id": "648f855d-ba08-476c-bf32-0a41e4f2a268",
   "metadata": {
    "tags": []
   },
   "outputs": [],
   "source": [
    "ps = Chem.RemoveHsParameters()"
   ]
  },
  {
   "cell_type": "code",
   "execution_count": 77,
   "id": "d5c12a6d-59a2-414f-9b34-d8c2357dc4ba",
   "metadata": {
    "tags": []
   },
   "outputs": [],
   "source": [
    "ps.removeHydrides = True"
   ]
  },
  {
   "cell_type": "code",
   "execution_count": 78,
   "id": "c7d6e317-7625-4799-84e7-f1fecbdf22c9",
   "metadata": {
    "tags": []
   },
   "outputs": [],
   "source": [
    "mol_no_h = Chem.RemoveHs(mol, ps)"
   ]
  },
  {
   "cell_type": "code",
   "execution_count": 79,
   "id": "65d46205-b298-4174-a506-b4df19a3bd06",
   "metadata": {
    "tags": []
   },
   "outputs": [
    {
     "data": {
      "text/plain": [
       "1"
      ]
     },
     "execution_count": 79,
     "metadata": {},
     "output_type": "execute_result"
    }
   ],
   "source": [
    "mol_no_h.GetNumAtoms()"
   ]
  },
  {
   "cell_type": "code",
   "execution_count": 80,
   "id": "e605581d-aa63-4af7-b139-9e0f7944a668",
   "metadata": {
    "tags": []
   },
   "outputs": [
    {
     "data": {
      "text/plain": [
       "1"
      ]
     },
     "execution_count": 80,
     "metadata": {},
     "output_type": "execute_result"
    }
   ],
   "source": [
    "Chem.GetFormalCharge(mol_no_h)"
   ]
  },
  {
   "cell_type": "code",
   "execution_count": 81,
   "id": "157cbe79-4cfe-407f-84ec-f36a3f4a4257",
   "metadata": {
    "tags": []
   },
   "outputs": [
    {
     "data": {
      "image/png": "[encoded data removed]",
      "text/plain": [
       "<rdkit.Chem.rdchem.Mol at 0x7f1f68b97a00>"
      ]
     },
     "execution_count": 81,
     "metadata": {},
     "output_type": "execute_result"
    }
   ],
   "source": [
    "mol_no_h"
   ]
  },
  {
   "cell_type": "code",
   "execution_count": 82,
   "id": "475b95ab-8af6-4eca-8a85-9dfc85021271",
   "metadata": {
    "tags": []
   },
   "outputs": [
    {
     "data": {
      "text/plain": [
       "1"
      ]
     },
     "execution_count": 82,
     "metadata": {},
     "output_type": "execute_result"
    }
   ],
   "source": [
    "mol_no_h.GetAtomWithIdx(0).GetNumRadicalElectrons()"
   ]
  },
  {
   "cell_type": "code",
   "execution_count": 83,
   "id": "d6c95cd1-99fc-4b74-8577-8afb49923da4",
   "metadata": {
    "tags": []
   },
   "outputs": [],
   "source": [
    "mol = Chem.MolFromSmiles(\"[Fe+2]<-[H-]\", smilesps)"
   ]
  },
  {
   "cell_type": "code",
   "execution_count": 84,
   "id": "ee15513a-9e7e-4e8a-890a-d306408d2c32",
   "metadata": {
    "tags": []
   },
   "outputs": [
    {
     "data": {
      "image/png": "[encoded data removed]",
      "text/plain": [
       "<rdkit.Chem.rdchem.Mol at 0x7f1f68b4c040>"
      ]
     },
     "execution_count": 84,
     "metadata": {},
     "output_type": "execute_result"
    }
   ],
   "source": [
    "mol"
   ]
  },
  {
   "cell_type": "code",
   "execution_count": 85,
   "id": "e53dbbb7-1d56-4805-870f-9a63baa10986",
   "metadata": {
    "tags": []
   },
   "outputs": [],
   "source": [
    "ps.removeHydrides = True"
   ]
  },
  {
   "cell_type": "code",
   "execution_count": 86,
   "id": "a26c6885-0e1c-4877-8ae9-cfe372083d06",
   "metadata": {
    "tags": []
   },
   "outputs": [],
   "source": [
    "mol_no_h = Chem.RemoveHs(mol, ps)"
   ]
  },
  {
   "cell_type": "code",
   "execution_count": 87,
   "id": "c7fd9c29-c6ae-4f33-939d-c6ecf006141d",
   "metadata": {
    "tags": []
   },
   "outputs": [
    {
     "data": {
      "text/plain": [
       "2"
      ]
     },
     "execution_count": 87,
     "metadata": {},
     "output_type": "execute_result"
    }
   ],
   "source": [
    "Chem.GetFormalCharge(mol_no_h)"
   ]
  },
  {
   "cell_type": "code",
   "execution_count": 88,
   "id": "dca7aaf8-bc05-4548-91be-5ab1e378a759",
   "metadata": {
    "tags": []
   },
   "outputs": [
    {
     "data": {
      "image/png": "[encoded data removed]",
      "text/plain": [
       "<rdkit.Chem.rdchem.Mol at 0x7f1f68b4c190>"
      ]
     },
     "execution_count": 88,
     "metadata": {},
     "output_type": "execute_result"
    }
   ],
   "source": [
    "mol_no_h"
   ]
  },
  {
   "cell_type": "code",
   "execution_count": 89,
   "id": "abbf0d0d-ca75-47c4-a596-0ee9a28fa001",
   "metadata": {
    "tags": []
   },
   "outputs": [],
   "source": [
    "smilesps = Chem.SmilesParserParams()\n",
    "smilesps.sanitize = False\n",
    "mol = Chem.MolFromSmiles(\"[H-][OH+]\", smilesps)"
   ]
  },
  {
   "cell_type": "code",
   "execution_count": 90,
   "id": "7f6e7247-e644-4500-a8b7-bb7dfb5aba9f",
   "metadata": {
    "tags": []
   },
   "outputs": [
    {
     "data": {
      "image/png": "[encoded data removed]",
      "text/plain": [
       "<rdkit.Chem.rdchem.Mol at 0x7f1f68b4c3c0>"
      ]
     },
     "execution_count": 90,
     "metadata": {},
     "output_type": "execute_result"
    }
   ],
   "source": [
    "mol"
   ]
  },
  {
   "cell_type": "code",
   "execution_count": 91,
   "id": "b44a310f-9d27-4783-acb1-769ab9c75e25",
   "metadata": {
    "tags": []
   },
   "outputs": [
    {
     "name": "stderr",
     "output_type": "stream",
     "text": [
      "[19:46:02] WARNING: not removing hydrogen atom without neighbors\n"
     ]
    }
   ],
   "source": [
    "mol = Chem.MolFromSmiles(\"[2HH2-]\", smilesps)"
   ]
  },
  {
   "cell_type": "code",
   "execution_count": 92,
   "id": "a08617a8-8a22-4c16-b025-07db6957c593",
   "metadata": {
    "tags": []
   },
   "outputs": [
    {
     "data": {
      "image/png": "[encoded data removed]",
      "text/plain": [
       "<rdkit.Chem.rdchem.Mol at 0x7f1f68b4c4a0>"
      ]
     },
     "execution_count": 92,
     "metadata": {},
     "output_type": "execute_result"
    }
   ],
   "source": [
    "mol"
   ]
  },
  {
   "cell_type": "code",
   "execution_count": 93,
   "id": "4b4a2164-f664-48ce-bf61-231ffb863ab5",
   "metadata": {
    "tags": []
   },
   "outputs": [
    {
     "data": {
      "text/plain": [
       "'[2HH2-]'"
      ]
     },
     "execution_count": 93,
     "metadata": {},
     "output_type": "execute_result"
    }
   ],
   "source": [
    "Chem.MolToSmiles(mol)"
   ]
  },
  {
   "cell_type": "code",
   "execution_count": 94,
   "id": "5932a794-46fd-4abf-944e-7af055d93935",
   "metadata": {
    "tags": []
   },
   "outputs": [],
   "source": [
    "mb = \"\"\"\n",
    "     RDKit          2D\n",
    "\n",
    "  0  0  0  0  0  0  0  0  0  0999 V3000\n",
    "M  V30 BEGIN CTAB\n",
    "M  V30 COUNTS 7 7 0 0 0\n",
    "M  V30 BEGIN ATOM\n",
    "M  V30 1 O -0.000000 5.505314 0.000000 0\n",
    "M  V30 2 N -0.000000 4.008578 0.000000 0 CHG=2\n",
    "M  V30 3 C 0.000000 0.999538 0.000000 0\n",
    "M  V30 4 C -1.298419 3.248684 0.000000 0\n",
    "M  V30 5 C 1.298419 3.248684 0.000000 0\n",
    "M  V30 6 C -1.298419 1.744164 0.000000 0\n",
    "M  V30 7 C 1.298419 1.744164 0.000000 0\n",
    "M  V30 END ATOM\n",
    "M  V30 BEGIN BOND\n",
    "M  V30 1 1 1 2\n",
    "M  V30 2 1 2 4\n",
    "M  V30 3 1 2 5\n",
    "M  V30 4 1 3 6\n",
    "M  V30 5 1 3 7\n",
    "M  V30 6 1 4 6\n",
    "M  V30 7 1 5 7\n",
    "M  V30 END BOND\n",
    "M  V30 END CTAB\n",
    "M  END\n",
    "$$$$\n",
    "\"\"\"\n",
    "m = Chem.MolFromMolBlock(mb)"
   ]
  },
  {
   "cell_type": "code",
   "execution_count": 95,
   "id": "de466ec5-ff7e-4c48-bade-cc6c9ff62f3d",
   "metadata": {
    "tags": []
   },
   "outputs": [
    {
     "data": {
      "image/png": "[encoded data removed]",
      "text/plain": [
       "<rdkit.Chem.rdchem.Mol at 0x7f1f68b4c350>"
      ]
     },
     "execution_count": 95,
     "metadata": {},
     "output_type": "execute_result"
    }
   ],
   "source": [
    "m"
   ]
  },
  {
   "cell_type": "code",
   "execution_count": 96,
   "id": "2d7768c4-dff1-4509-ae62-a213fc92c945",
   "metadata": {},
   "outputs": [
    {
     "name": "stderr",
     "output_type": "stream",
     "text": [
      "Atoms:\n",
      "\t0 8 O chg: 0  deg: 1 exp: 1 imp: 1 hyb: SP3\n",
      "\t1 7 N chg: 2  deg: 3 exp: 3 imp: 0 hyb: SP2\n",
      "\t2 6 C chg: 0  deg: 2 exp: 2 imp: 2 hyb: SP3\n",
      "\t3 6 C chg: 0  deg: 2 exp: 2 imp: 2 hyb: SP3\n",
      "\t4 6 C chg: 0  deg: 2 exp: 2 imp: 2 hyb: SP3\n",
      "\t5 6 C chg: 0  deg: 2 exp: 2 imp: 2 hyb: SP3\n",
      "\t6 6 C chg: 0  deg: 2 exp: 2 imp: 2 hyb: SP3\n",
      "Bonds:\n",
      "\t0 0->1 order: 1\n",
      "\t1 1->3 order: 1\n",
      "\t2 1->4 order: 1\n",
      "\t3 2->5 order: 1\n",
      "\t4 2->6 order: 1\n",
      "\t5 3->5 order: 1\n",
      "\t6 4->6 order: 1\n"
     ]
    }
   ],
   "source": [
    "m.Debug()\n",
    "\n",
    "# The +2 charge on the N atom is completely bogus:\n",
    "# Atoms:\n",
    "#      0 8 O chg: 0  deg: 1 exp: 1 imp: 1 hyb: SP3\n",
    "#      1 7 N chg: 2  deg: 3 exp: 3 imp: 0 hyb: SP2\n",
    "#      2 6 C chg: 0  deg: 2 exp: 2 imp: 2 hyb: SP3\n",
    "#      3 6 C chg: 0  deg: 2 exp: 2 imp: 2 hyb: SP3\n",
    "#      4 6 C chg: 0  deg: 2 exp: 2 imp: 2 hyb: SP3\n",
    "#      5 6 C chg: 0  deg: 2 exp: 2 imp: 2 hyb: SP3\n",
    "#      6 6 C chg: 0  deg: 2 exp: 2 imp: 2 hyb: SP3\n",
    "# Bonds:\n",
    "#      0 0->1 order: 1\n",
    "#      1 1->3 order: 1\n",
    "#      2 1->4 order: 1\n",
    "#      3 2->5 order: 1\n",
    "#      4 2->6 order: 1\n",
    "#      5 3->5 order: 1\n",
    "#      6 4->6 order: 1"
   ]
  },
  {
   "cell_type": "code",
   "execution_count": 97,
   "id": "636d1ec3-c074-49a8-81c1-6ebedc903890",
   "metadata": {
    "tags": []
   },
   "outputs": [
    {
     "name": "stderr",
     "output_type": "stream",
     "text": [
      "[19:46:04] Running Uncharger\n"
     ]
    },
    {
     "data": {
      "image/png": "[encoded data removed]",
      "text/plain": [
       "<rdkit.Chem.rdchem.Mol at 0x7f1f68b4c820>"
      ]
     },
     "execution_count": 97,
     "metadata": {},
     "output_type": "execute_result"
    }
   ],
   "source": [
    "uncharger = rdMolStandardize.Uncharger(canonicalOrder=True)\n",
    "uncharger.uncharge(m)"
   ]
  },
  {
   "cell_type": "code",
   "execution_count": 98,
   "id": "569601da-8da7-49c2-a381-94d0aab74da1",
   "metadata": {
    "tags": []
   },
   "outputs": [],
   "source": [
    "mol = Chem.MolFromSmiles(\"[Cu+]->N\")"
   ]
  },
  {
   "cell_type": "code",
   "execution_count": 99,
   "id": "a6175162-f3de-4f3d-a528-17a6274ef23b",
   "metadata": {
    "tags": []
   },
   "outputs": [
    {
     "data": {
      "image/png": "[encoded data removed]",
      "text/plain": [
       "<rdkit.Chem.rdchem.Mol at 0x7f1f68b4ca50>"
      ]
     },
     "execution_count": 99,
     "metadata": {},
     "output_type": "execute_result"
    }
   ],
   "source": [
    "mol"
   ]
  },
  {
   "cell_type": "code",
   "execution_count": 100,
   "id": "cd01ca08-dbaa-4cfa-a872-246123c10542",
   "metadata": {
    "tags": []
   },
   "outputs": [
    {
     "data": {
      "text/plain": [
       "1"
      ]
     },
     "execution_count": 100,
     "metadata": {},
     "output_type": "execute_result"
    }
   ],
   "source": [
    "mol.GetAtomWithIdx(1).GetTotalValence()"
   ]
  },
  {
   "cell_type": "code",
   "execution_count": 101,
   "id": "9438cd47-9a4b-47f7-940b-3f949a761f6b",
   "metadata": {
    "tags": []
   },
   "outputs": [
    {
     "data": {
      "text/plain": [
       "'[NH]<-[Cu+]'"
      ]
     },
     "execution_count": 101,
     "metadata": {},
     "output_type": "execute_result"
    }
   ],
   "source": [
    "Chem.MolToSmiles(mol)"
   ]
  },
  {
   "cell_type": "code",
   "execution_count": 102,
   "id": "02b7130e-0f74-4b53-852c-82350768c2ec",
   "metadata": {
    "tags": []
   },
   "outputs": [],
   "source": [
    "mol = Chem.MolFromSmiles(\"[Cu+]->B\")"
   ]
  },
  {
   "cell_type": "code",
   "execution_count": 103,
   "id": "c4a57551-85e9-4dfe-b74e-06d7010e8cfb",
   "metadata": {
    "tags": []
   },
   "outputs": [
    {
     "data": {
      "image/png": "[encoded data removed]",
      "text/plain": [
       "<rdkit.Chem.rdchem.Mol at 0x7f1f68b4d070>"
      ]
     },
     "execution_count": 103,
     "metadata": {},
     "output_type": "execute_result"
    }
   ],
   "source": [
    "mol"
   ]
  },
  {
   "cell_type": "code",
   "execution_count": 104,
   "id": "8afbb77a-af29-4bfd-beff-91238fa8fcab",
   "metadata": {
    "tags": []
   },
   "outputs": [
    {
     "data": {
      "text/plain": [
       "3"
      ]
     },
     "execution_count": 104,
     "metadata": {},
     "output_type": "execute_result"
    }
   ],
   "source": [
    "mol.GetAtomWithIdx(1).GetTotalValence()"
   ]
  },
  {
   "cell_type": "code",
   "execution_count": 105,
   "id": "46c910d4-c3e1-4ad8-9ea1-8ad1a43926d0",
   "metadata": {
    "tags": []
   },
   "outputs": [
    {
     "data": {
      "text/plain": [
       "'B<-[Cu+]'"
      ]
     },
     "execution_count": 105,
     "metadata": {},
     "output_type": "execute_result"
    }
   ],
   "source": [
    "Chem.MolToSmiles(mol)"
   ]
  },
  {
   "cell_type": "code",
   "execution_count": 106,
   "id": "a423318d-7aa1-4ca4-a7b8-4a56a03f7ba9",
   "metadata": {
    "tags": []
   },
   "outputs": [],
   "source": [
    "mol = Chem.MolFromSmiles(\"CN(->[Li+])C\")"
   ]
  },
  {
   "cell_type": "code",
   "execution_count": 107,
   "id": "0cde3a16-8305-4f23-b3fe-5b830ca302ac",
   "metadata": {
    "tags": []
   },
   "outputs": [
    {
     "data": {
      "image/png": "[encoded data removed]",
      "text/plain": [
       "<rdkit.Chem.rdchem.Mol at 0x7f1f68b4d2a0>"
      ]
     },
     "execution_count": 107,
     "metadata": {},
     "output_type": "execute_result"
    }
   ],
   "source": [
    "mol"
   ]
  },
  {
   "cell_type": "code",
   "execution_count": 108,
   "id": "b9b4cddb-967b-4df0-bbf6-4e5bc3a06220",
   "metadata": {
    "tags": []
   },
   "outputs": [],
   "source": [
    "mb = \"\"\"\n",
    "  SMMXDraw08051113052D\n",
    "\n",
    "  0  0  0     0  0            999 V3000\n",
    "M  V30 BEGIN CTAB\n",
    "M  V30 COUNTS 8 8 0 0 0\n",
    "M  V30 BEGIN ATOM\n",
    "M  V30 1 Cl 11.5252 -12.6451 0.0000 0\n",
    "M  V30 2 Al 12.7063 -12.6451 0.0000 0\n",
    "M  V30 3 Cl 12.7063 -11.4640 0.0000 0\n",
    "M  V30 4 Cl 12.7063 -13.8979 0.0000 0\n",
    "M  V30 5 Al 14.7407 -13.8979 0.0000 0\n",
    "M  V30 6 Cl 14.7407 -12.6451 0.0000 0\n",
    "M  V30 7 Cl 15.9218 -13.8979 0.0000 0\n",
    "M  V30 8 Cl 14.7407 -15.0790 0.0000 0\n",
    "M  V30 END ATOM\n",
    "M  V30 BEGIN BOND\n",
    "M  V30 1 1 2 3 \n",
    "M  V30 2 1 5 6 \n",
    "M  V30 3 1 1 2 \n",
    "M  V30 4 1 5 7 \n",
    "M  V30 5 1 2 4 \n",
    "M  V30 6 1 5 8 \n",
    "M  V30 7 9 6 2 \n",
    "M  V30 8 9 4 5 \n",
    "M  V30 END BOND\n",
    "M  V30 END CTAB\n",
    "M  END\n",
    "\"\"\""
   ]
  },
  {
   "cell_type": "code",
   "execution_count": 109,
   "id": "796036a5-4233-4d93-ab02-00e002a75cfc",
   "metadata": {
    "tags": []
   },
   "outputs": [],
   "source": [
    "m = Chem.MolFromMolBlock(mb, sanitize=False)"
   ]
  },
  {
   "cell_type": "code",
   "execution_count": 110,
   "id": "0e2f40e2-2e91-4115-8906-fe3ea470dad2",
   "metadata": {
    "tags": []
   },
   "outputs": [
    {
     "data": {
      "image/png": "[encoded data removed]",
      "text/plain": [
       "<rdkit.Chem.rdchem.Mol at 0x7f1f68b4cac0>"
      ]
     },
     "execution_count": 110,
     "metadata": {},
     "output_type": "execute_result"
    }
   ],
   "source": [
    "m"
   ]
  },
  {
   "cell_type": "code",
   "execution_count": 111,
   "id": "f60c87a6-5d8a-4512-9621-6517c76d8b72",
   "metadata": {},
   "outputs": [
    {
     "data": {
      "text/plain": [
       "'Cl[Al]1(Cl)<-Cl[Al](Cl)(Cl)<-Cl1'"
      ]
     },
     "execution_count": 111,
     "metadata": {},
     "output_type": "execute_result"
    }
   ],
   "source": [
    "Chem.MolToSmiles(m)"
   ]
  },
  {
   "cell_type": "code",
   "execution_count": 112,
   "id": "9de553f8-2dc5-43e0-a6a5-990b001d2871",
   "metadata": {},
   "outputs": [],
   "source": [
    "m = Chem.MolFromSmiles(\"Cl[Al]1(Cl)<-Cl[Al](Cl)(Cl)<-Cl1\")"
   ]
  },
  {
   "cell_type": "code",
   "execution_count": 113,
   "id": "d65d16ec-9f24-4651-829b-db33b4b9c165",
   "metadata": {},
   "outputs": [],
   "source": [
    "m = Chem.MolFromSmiles(\"Cl[Al]1(Cl)<-Cl[Al](Cl)(Cl)<-Cl1\")"
   ]
  },
  {
   "cell_type": "code",
   "execution_count": 114,
   "id": "4eb22e64-182c-4944-8f1a-e2886cfe80a1",
   "metadata": {},
   "outputs": [],
   "source": [
    "m = Chem.MolFromSmiles(\"CCO(CC)->B\")"
   ]
  },
  {
   "cell_type": "code",
   "execution_count": 115,
   "id": "038f8a9a-633b-4497-a89f-f90614142f21",
   "metadata": {},
   "outputs": [],
   "source": [
    "mol = Chem.MolFromSmiles(\"N->B\")"
   ]
  },
  {
   "cell_type": "code",
   "execution_count": 116,
   "id": "41af0396-7b4b-47d3-aee5-e264247ce927",
   "metadata": {
    "tags": []
   },
   "outputs": [
    {
     "data": {
      "image/png": "[encoded data removed]",
      "text/plain": [
       "<rdkit.Chem.rdchem.Mol at 0x7f1f68b4d7e0>"
      ]
     },
     "execution_count": 116,
     "metadata": {},
     "output_type": "execute_result"
    }
   ],
   "source": [
    "mol"
   ]
  },
  {
   "cell_type": "code",
   "execution_count": 117,
   "id": "140ca006-1dc5-4e8b-a3f7-9d121cc24c09",
   "metadata": {
    "tags": []
   },
   "outputs": [
    {
     "name": "stderr",
     "output_type": "stream",
     "text": [
      "Atoms:\n",
      "\t0 7 N chg: 0  deg: 1 exp: 0 imp: 1 hyb: SP2\n",
      "\t1 5 B chg: 0  deg: 1 exp: 0 imp: 3 hyb: SP3\n",
      "Bonds:\n",
      "\t0 0->1 order: D\n"
     ]
    }
   ],
   "source": [
    "mol.Debug()"
   ]
  },
  {
   "cell_type": "code",
   "execution_count": 118,
   "id": "8fd12de1-cb8c-4c3d-9db8-944b8728ef76",
   "metadata": {
    "tags": []
   },
   "outputs": [],
   "source": [
    "mol = Chem.MolFromSmiles(\"N->O\")"
   ]
  },
  {
   "cell_type": "code",
   "execution_count": 119,
   "id": "ced3380c-c5fd-4142-b2f9-3c1029124118",
   "metadata": {
    "tags": []
   },
   "outputs": [
    {
     "data": {
      "image/png": "[encoded data removed]",
      "text/plain": [
       "<rdkit.Chem.rdchem.Mol at 0x7f1f68b4db60>"
      ]
     },
     "execution_count": 119,
     "metadata": {},
     "output_type": "execute_result"
    }
   ],
   "source": [
    "mol"
   ]
  },
  {
   "cell_type": "code",
   "execution_count": 120,
   "id": "e64562e6-e2e6-4ef0-877e-a1e0efa659b0",
   "metadata": {
    "tags": []
   },
   "outputs": [
    {
     "name": "stderr",
     "output_type": "stream",
     "text": [
      "Atoms:\n",
      "\t0 7 N chg: 0  deg: 1 exp: 0 imp: 1 hyb: SP2\n",
      "\t1 8 O chg: 0  deg: 1 exp: 0 imp: 0 hyb: SP3\n",
      "Bonds:\n",
      "\t0 0->1 order: D\n"
     ]
    }
   ],
   "source": [
    "mol.Debug()"
   ]
  },
  {
   "cell_type": "code",
   "execution_count": 121,
   "id": "faf8b47c-5e8a-4924-91db-ec5dc216ce2b",
   "metadata": {
    "tags": []
   },
   "outputs": [],
   "source": [
    "mol = Chem.MolFromSmiles(\"CS(=O)(=O)C\")"
   ]
  },
  {
   "cell_type": "code",
   "execution_count": 122,
   "id": "aff5cb1f-4feb-42aa-8654-77a8e7caa22b",
   "metadata": {
    "tags": []
   },
   "outputs": [
    {
     "name": "stderr",
     "output_type": "stream",
     "text": [
      "Atoms:\n",
      "\t0 6 C chg: 0  deg: 1 exp: 1 imp: 3 hyb: SP3\n",
      "\t1 16 S chg: 0  deg: 4 exp: 6 imp: 0 hyb: SP3\n",
      "\t2 8 O chg: 0  deg: 1 exp: 2 imp: 0 hyb: SP2\n",
      "\t3 8 O chg: 0  deg: 1 exp: 2 imp: 0 hyb: SP2\n",
      "\t4 6 C chg: 0  deg: 1 exp: 1 imp: 3 hyb: SP3\n",
      "Bonds:\n",
      "\t0 0->1 order: 1\n",
      "\t1 1->2 order: 2\n",
      "\t2 1->3 order: 2\n",
      "\t3 1->4 order: 1\n"
     ]
    }
   ],
   "source": [
    "mol.Debug()"
   ]
  },
  {
   "cell_type": "code",
   "execution_count": 123,
   "id": "61ce5d9f-c379-4fa9-805b-c25a21bb496b",
   "metadata": {
    "tags": []
   },
   "outputs": [],
   "source": [
    "mol = Chem.MolFromSmiles(\"CS(->O)(->O)C\")"
   ]
  },
  {
   "cell_type": "code",
   "execution_count": 124,
   "id": "731c53e5-af9c-4613-9c33-b76ef403af40",
   "metadata": {
    "tags": []
   },
   "outputs": [
    {
     "name": "stderr",
     "output_type": "stream",
     "text": [
      "Atoms:\n",
      "\t0 6 C chg: 0  deg: 1 exp: 1 imp: 3 hyb: SP3\n",
      "\t1 16 S chg: 0  deg: 4 exp: 2 imp: 0 hyb: SP3\n",
      "\t2 8 O chg: 0  deg: 1 exp: 0 imp: 0 hyb: SP3\n",
      "\t3 8 O chg: 0  deg: 1 exp: 0 imp: 0 hyb: SP3\n",
      "\t4 6 C chg: 0  deg: 1 exp: 1 imp: 3 hyb: SP3\n",
      "Bonds:\n",
      "\t0 0->1 order: 1\n",
      "\t1 1->2 order: D\n",
      "\t2 1->3 order: D\n",
      "\t3 1->4 order: 1\n"
     ]
    }
   ],
   "source": [
    "mol.Debug()"
   ]
  },
  {
   "cell_type": "code",
   "execution_count": 126,
   "id": "36fc09f4-4837-4301-b4ed-6cd9ccf50a88",
   "metadata": {},
   "outputs": [],
   "source": [
    "m = Chem.RWMol()\n",
    "m.AddAtom(Chem.Atom(5))\n",
    "m.AddAtom(Chem.Atom(6))\n",
    "m.AddAtom(Chem.Atom(6))\n",
    "m.AddAtom(Chem.Atom(6))\n",
    "m.AddAtom(Chem.Atom(6))\n",
    "m.AddBond(0, 1, Chem.BondType.SINGLE)\n",
    "m.AddBond(0, 2, Chem.BondType.SINGLE)\n",
    "m.AddBond(0, 3, Chem.BondType.SINGLE)\n",
    "m.AddBond(0, 4, Chem.BondType.SINGLE)\n",
    "m.GetAtomWithIdx(0).SetFormalCharge(+1)"
   ]
  },
  {
   "cell_type": "code",
   "execution_count": 127,
   "id": "317f3a2a-6659-4c38-9dc8-c3f642d419e9",
   "metadata": {},
   "outputs": [
    {
     "data": {
      "image/png": "[encoded data removed]",
      "text/plain": [
       "<rdkit.Chem.rdchem.RWMol at 0x7f1f68b72d40>"
      ]
     },
     "execution_count": 127,
     "metadata": {},
     "output_type": "execute_result"
    }
   ],
   "source": [
    "m"
   ]
  },
  {
   "cell_type": "code",
   "execution_count": 128,
   "id": "c6eb3be1-bdf7-4a31-b13f-c5355a80992f",
   "metadata": {},
   "outputs": [
    {
     "data": {
      "text/plain": [
       "rdkit.Chem.rdmolops.SanitizeFlags.SANITIZE_NONE"
      ]
     },
     "execution_count": 128,
     "metadata": {},
     "output_type": "execute_result"
    }
   ],
   "source": [
    "Chem.SanitizeMol(m)"
   ]
  },
  {
   "cell_type": "code",
   "execution_count": 129,
   "id": "e25bd680-ae10-4028-8c60-b70e049dabb9",
   "metadata": {},
   "outputs": [
    {
     "data": {
      "image/png": "[encoded data removed]",
      "text/plain": [
       "<rdkit.Chem.rdchem.RWMol at 0x7f1f68b72d40>"
      ]
     },
     "execution_count": 129,
     "metadata": {},
     "output_type": "execute_result"
    }
   ],
   "source": [
    "m"
   ]
  },
  {
   "cell_type": "code",
   "execution_count": 130,
   "id": "b8b52db2-c1b1-4d09-bbdd-d62324bc5e85",
   "metadata": {},
   "outputs": [],
   "source": [
    "m = Chem.MolFromSmiles(\"C[B+](C)(C)C\")"
   ]
  },
  {
   "cell_type": "code",
   "execution_count": 131,
   "id": "51fa90a3-dc34-4803-8057-15b6d28a5cd8",
   "metadata": {},
   "outputs": [
    {
     "data": {
      "image/png": "[encoded data removed]",
      "text/plain": [
       "<rdkit.Chem.rdchem.Mol at 0x7f1f68b4e030>"
      ]
     },
     "execution_count": 131,
     "metadata": {},
     "output_type": "execute_result"
    }
   ],
   "source": [
    "m"
   ]
  },
  {
   "cell_type": "code",
   "execution_count": null,
   "id": "17ce2e2e-8ca7-489b-9a29-cab6fb20b938",
   "metadata": {},
   "outputs": [],
   "source": []
  }
 ],
 "metadata": {
  "kernelspec": {
   "display_name": "Python 3 (ipykernel)",
   "language": "python",
   "name": "python3"
  },
  "language_info": {
   "codemirror_mode": {
    "name": "ipython",
    "version": 3
   },
   "file_extension": ".py",
   "mimetype": "text/x-python",
   "name": "python",
   "nbconvert_exporter": "python",
   "pygments_lexer": "ipython3",
   "version": "3.11.9"
  }
 },
 "nbformat": 4,
 "nbformat_minor": 5
}
